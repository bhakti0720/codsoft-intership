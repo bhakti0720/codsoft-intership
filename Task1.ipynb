{
  "nbformat": 4,
  "nbformat_minor": 0,
  "metadata": {
    "colab": {
      "provenance": [],
      "authorship_tag": "ABX9TyPAFan0CJwi7as8C12813RM",
      "include_colab_link": true
    },
    "kernelspec": {
      "name": "python3",
      "display_name": "Python 3"
    },
    "language_info": {
      "name": "python"
    }
  },
  "cells": [
    {
      "cell_type": "markdown",
      "metadata": {
        "id": "view-in-github",
        "colab_type": "text"
      },
      "source": [
        "<a href=\"https://colab.research.google.com/github/bhakti0720/codsoft-intership/blob/main/Task1.ipynb\" target=\"_parent\"><img src=\"https://colab.research.google.com/assets/colab-badge.svg\" alt=\"Open In Colab\"/></a>"
      ]
    },
    {
      "cell_type": "code",
      "execution_count": null,
      "metadata": {
        "id": "qjqEe9bOYveL"
      },
      "outputs": [],
      "source": [
        "import re\n",
        "import random"
      ]
    },
    {
      "cell_type": "code",
      "source": [
        "class rulebot :\n",
        "  negative_respo = [\"no\",\"nope\",\"not\",\"not a chance\",\"not possible\"]\n",
        "  exit_commands = [\"quit\",\"pause\",\"exit\",\"bye\",\"goodbye\", \"okay thankyou\",\"thankyou\",\"thanks\"]\n",
        "  random_questions = [\n",
        "      \"whom I'm talking with?\",\n",
        "      \"tell me somethig about you?\",\n",
        "  ]\n",
        "\n",
        "  def __init__(self):\n",
        "    self.support_responses = {\n",
        "    'ask_about_product': r'.*\\s*product.*',\n",
        "    'technical_support': r'.*technical.*support.*',\n",
        "    'about_returns': r'.*\\s*return.*policy.*',\n",
        "    'genral_query': r'.*how.*hello.*'\n",
        "  }\n",
        "\n",
        "  def great(self):\n",
        "        self.name = input(\"Hello welcome to our customer support. What's your name?\\n\")\n",
        "        will_help = input(f\"Hi {self.name} ,\\n how can I help you!\\n\")\n",
        "        if will_help in self.negative_respo:\n",
        "            print(\"Alright have great day !\")\n",
        "            return\n",
        "        self.chat()\n",
        "\n",
        "  def make_exit(self, reply):\n",
        "        for command in self.exit_commands:\n",
        "            if command in reply:\n",
        "                print(\"Thanks for reaching out. Have a great day!\")\n",
        "                return True\n",
        "        return False\n",
        "\n",
        "  def chat(self):\n",
        "        reply = input(\"Please tell me your query: \").lower()\n",
        "        while not self.make_exit(reply):\n",
        "            reply = input(self.match_reply(reply)).lower()\n",
        "\n",
        "  def match_reply(self, reply):\n",
        "        for intent, regex_pattern in self.support_responses.items():\n",
        "            found_match = re.search(regex_pattern, reply)\n",
        "            if found_match:\n",
        "                if intent == 'ask_about_product':\n",
        "                    return self.ask_about_product()\n",
        "                elif intent == 'technical_support':\n",
        "                    return self.technical_support()\n",
        "                elif intent == 'about_returns':\n",
        "                    return self.about_returns()\n",
        "                elif intent == 'genral_query':\n",
        "                    return self.genral_query()\n",
        "        return self.no_match_intent()\n",
        "\n",
        "  def ask_about_product(self):\n",
        "        responses = [\n",
        "            \"Our product is top-notch and has excellent reviews!\",\n",
        "            \"You can find out more details about the product on our website. Website link --> www.xyz.in\"\n",
        "        ]\n",
        "        return random.choice(responses)\n",
        "\n",
        "  def technical_support(self):\n",
        "        responses = [\n",
        "            \"For technical support, you can call on the number below: 9911xxxxxx \\n\",\n",
        "            \"You can also email us at abcxyz@gmail.com \\n\"\n",
        "        ]\n",
        "        return random.choice(responses)\n",
        "\n",
        "  def about_returns(self):\n",
        "        responses = [\n",
        "            \"We have a 10-day return policy.\\n\",\n",
        "            \"Please ensure the product is in original condition at the time of returning.\\n\"\n",
        "        ]\n",
        "        return random.choice(responses)\n",
        "\n",
        "  def genral_query(self):\n",
        "        responses = [\n",
        "            \"How can I support you further? \\n\",\n",
        "            \"Is there anything else you would like to know?\\n\"\n",
        "        ]\n",
        "        return random.choice(responses)\n",
        "\n",
        "  def no_match_intent(self):\n",
        "        responses = [\n",
        "            \"I'm sorry, I didn't understand that. Can you please rephrase?\\n\",\n",
        "            \"My apologies, can you provide more details?\\n\"\n",
        "        ]\n",
        "        return random.choice(responses)\n",
        "\n",
        "support_response = rulebot()\n",
        "support_response.great()\n"
      ],
      "metadata": {
        "id": "f8hauTGcZE0b",
        "colab": {
          "base_uri": "https://localhost:8080/"
        },
        "outputId": "9ccff2b2-b8eb-48e2-b181-5c496e4753ac"
      },
      "execution_count": null,
      "outputs": [
        {
          "output_type": "stream",
          "name": "stdout",
          "text": [
            "Hello welcome to our customer support. What's your name?\n",
            "Bhakti\n",
            "Hi Bhakti ,\n",
            " how can I help you!\n",
            "I would like to know about your product\n",
            "Please tell me your query: how can i get more info about your product\n",
            "You can find out more details about the product on our website. Website link --> www.xyz.inWhat about technical support\n",
            "You can also email us at abcxyz@gmail.com \n",
            "thanks\n",
            "Thanks for reaching out. Have a great day!\n"
          ]
        }
      ]
    }
  ]
}